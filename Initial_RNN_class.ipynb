{
 "cells": [
  {
   "cell_type": "code",
   "execution_count": 1,
   "metadata": {},
   "outputs": [],
   "source": [
    "import numpy as np\n",
    "import PIL"
   ]
  },
  {
   "cell_type": "markdown",
   "metadata": {},
   "source": [
    "### **SOW-MKI49-2020-SEM1-V: NeurIPS**\n",
    "#### Project: Neurosmash\n",
    "\n",
    "This is the info document on the Neurosmash environment that you will be using for your Final Assignment. It contains background info and skeleton code to get you started."
   ]
  },
  {
   "cell_type": "markdown",
   "metadata": {},
   "source": [
    "### Project\n",
    "\n",
    "During the 2nd period, you will be working exclusively on this final group project in the practicals. You are expected to form groups of 4-5 people. The goal is to take what has been discussed in class and what you have already worked on in the earlier practicals, and apply them on a RL problem in a novel environment. This  project will constitute 25% of your final grade.\n",
    "\n",
    "Your project grade will be based on the following components:\n",
    "- Online demonstration\n",
    "- Source code\n",
    "- Written report (a 4-page report in NeurIPS workshop paper format: https://www.overleaf.com/latex/templates/neurips-2020/mnshsmqkjsqz)\n",
    "\n",
    "These components will be evaluated based on performance, creativity, elegance, rigor and plausibility.\n",
    "\n",
    "While you can use the material from earlier practicals (e.g., REINFORCE, DQN, etc.) as a boilerplate, you are also free to take any other approach be it imitation learning or world models for your project.\n",
    "\n",
    "As a deep learning library, use of mxnet is preferred. Still, you are free to use whatever you want.\n",
    "\n",
    "In addition to the practical sessions, we will provide additional support in the coming weeks. You can email any of us to set up an appointment for discussing your project."
   ]
  },
  {
   "cell_type": "markdown",
   "metadata": {},
   "source": [
    "### Environment\n",
    "\n",
    "Briefly, there are two agents: Red and Blue. Red is controlled by you. Blue is controlled by the environment \"AI\".* Both agents always run forward with a speed of 3.5 m/s*. If one of them gets within the reach of the other (a frontal sphere with 0.5 m radius), it gets pushed away automatically with a speed of 3.5 m/s. The only thing that the agents can do is to turn left or right with an angular speed of 180 degrees/s. This means that there are three possible discrete actions that your agent can take every step: Turn nowhere, turn left and turn right. For convenience, there is also a fourth built-in action which turns left or right with uniform probability. An episode begins when you reset the environment and ends when one of the agents fall off the platform. At the end of the episode, the winning agent gets a reward of 10 while the other gets nothing. Therefore, your goal is to train an agent who can maximize its reward by pushing the other agent off the platform or making it fall off the platform by itself.\n",
    "\n",
    "* Note that all times are simulation time. That is, 0.02 s per step when timescale is set to one.\n",
    "\n",
    "* Basically, Blue is artificial but not really intelligent. What it does is that every 0.5 s, it updates its destination to the current position of Red plus some random variation (a surrounding circle with a radius of 1.75 m) and smoothly turns to that position.\n",
    "\n",
    "Note to macOS users: You should first make the environment executable* in the terminal and run it from the context menu (i.e., not by double clicking)\n",
    "\n",
    "* chmod -R +x [Path of Mac.app (which is in the .zip file)]/Contents/MacOS"
   ]
  },
  {
   "cell_type": "markdown",
   "metadata": {},
   "source": [
    "### Skeleton code\n",
    "\n",
    "- You should first add the Neurosmash file to your working directory or Python path.\n",
    "- Next you should start the Neurosmash app \n",
    "- Make sure to set the right values in the Ip, Port, Size and Timescale fields (see below). These must correspond to the values you specify in the python script\n",
    "- Start the server by pressing the play button\n",
    "- The fastest simulations can be obtained by turning off rendering (x button)"
   ]
  },
  {
   "cell_type": "code",
   "execution_count": 2,
   "metadata": {},
   "outputs": [],
   "source": [
    "import Neurosmash\n",
    "\n",
    "# These are the default environment arguments. They must be the same as the values that are set in the environment GUI.\n",
    "ip         = \"127.0.0.1\" # Ip address that the TCP/IP interface listens to (127.0.0.1 by default)\n",
    "port       = 13000       # Port number that the TCP/IP interface listens to (13000 by default)\n",
    "\n",
    "# This is the size of the texture that the environment is rendered.\n",
    "# This is set to 784 by default, which will result in a crisp image but slow speed.\n",
    "# You can change the size to a value that works well for your environment but should not go too low.\n",
    "size       = 96\n",
    "\n",
    "# This is the simulation speed of the environment. This is set to 1 by default.\n",
    "# Setting it to n will make the simulation n times faster.\n",
    "# In other words, less (if n < 1) or more (if n > 1) simulation time will pass per step.\n",
    "# You might want to increase this value to around 10 if you cannot train your models fast enough\n",
    "# so that they can sample more states in a shorter number of steps at the expense of precision.\n",
    "timescale  = 5\n",
    "\n",
    "# This is an example agent.\n",
    "# It has a step function, which gets reward/state as arguments and returns an action.\n",
    "# Right now, it always outputs a random action (3) regardless of reward/state.\n",
    "# The real agent should output one of the following three actions:\n",
    "# none (0), left (1) and right (2)\n",
    "agent = Neurosmash.Agent() \n",
    "\n",
    "# This is the main environment.\n",
    "# It has a reset function, which is used to reset the environment before episodes.\n",
    "# It also has a step function, which is used to which steps one time point\n",
    "# It gets an action (as defined above) as input and outputs the following:\n",
    "# end (true if the episode has ended, false otherwise)\n",
    "# reward (10 if won, 0 otherwise)\n",
    "# state (flattened size x size x 3 vector of pixel values)\n",
    "# The state can be converted into an image as follows:\n",
    "# image = np.array(state, \"uint8\").reshape(size, size, 3)\n",
    "# You can also use to Neurosmash.Environment.state2image(state) function which returns\n",
    "# the state as a PIL image\n",
    "environment = Neurosmash.Environment(ip, port, size, timescale) \n",
    "\n"
   ]
  },
  {
   "cell_type": "code",
   "execution_count": 7,
   "metadata": {
    "scrolled": true
   },
   "outputs": [
    {
     "name": "stdout",
     "output_type": "stream",
     "text": [
      "Requirement already satisfied: gluonts in /anaconda3/envs/NIPS/lib/python3.8/site-packages (0.6.0)\n",
      "Requirement already satisfied: holidays>=0.9 in /anaconda3/envs/NIPS/lib/python3.8/site-packages (from gluonts) (0.10.3)\n",
      "Requirement already satisfied: ujson~=1.35 in /anaconda3/envs/NIPS/lib/python3.8/site-packages (from gluonts) (1.35)\n",
      "Requirement already satisfied: matplotlib~=3.0 in /anaconda3/envs/NIPS/lib/python3.8/site-packages (from gluonts) (3.3.2)\n",
      "Requirement already satisfied: tqdm~=4.23 in /anaconda3/envs/NIPS/lib/python3.8/site-packages (from gluonts) (4.50.2)\n",
      "Requirement already satisfied: toolz~=0.10 in /anaconda3/envs/NIPS/lib/python3.8/site-packages (from gluonts) (0.11.1)\n",
      "Requirement already satisfied: pydantic<1.7,~=1.1 in /anaconda3/envs/NIPS/lib/python3.8/site-packages (from gluonts) (1.6.1)\n",
      "Requirement already satisfied: pandas>=1.0 in /anaconda3/envs/NIPS/lib/python3.8/site-packages (from gluonts) (1.1.4)\n",
      "Requirement already satisfied: numpy~=1.16 in /anaconda3/envs/NIPS/lib/python3.8/site-packages (from gluonts) (1.19.1)\n",
      "Requirement already satisfied: six in /anaconda3/envs/NIPS/lib/python3.8/site-packages (from holidays>=0.9->gluonts) (1.15.0)\n",
      "Requirement already satisfied: korean-lunar-calendar in /anaconda3/envs/NIPS/lib/python3.8/site-packages (from holidays>=0.9->gluonts) (0.2.1)\n",
      "Requirement already satisfied: python-dateutil in /anaconda3/envs/NIPS/lib/python3.8/site-packages (from holidays>=0.9->gluonts) (2.8.1)\n",
      "Requirement already satisfied: convertdate in /anaconda3/envs/NIPS/lib/python3.8/site-packages (from holidays>=0.9->gluonts) (2.3.0)\n",
      "Requirement already satisfied: pillow>=6.2.0 in /anaconda3/envs/NIPS/lib/python3.8/site-packages (from matplotlib~=3.0->gluonts) (7.2.0)\n",
      "Requirement already satisfied: pyparsing!=2.0.4,!=2.1.2,!=2.1.6,>=2.0.3 in /anaconda3/envs/NIPS/lib/python3.8/site-packages (from matplotlib~=3.0->gluonts) (2.4.7)\n",
      "Requirement already satisfied: certifi>=2020.06.20 in /anaconda3/envs/NIPS/lib/python3.8/site-packages (from matplotlib~=3.0->gluonts) (2020.6.20)\n",
      "Requirement already satisfied: kiwisolver>=1.0.1 in /anaconda3/envs/NIPS/lib/python3.8/site-packages (from matplotlib~=3.0->gluonts) (1.2.0)\n",
      "Requirement already satisfied: cycler>=0.10 in /anaconda3/envs/NIPS/lib/python3.8/site-packages (from matplotlib~=3.0->gluonts) (0.10.0)\n",
      "Requirement already satisfied: pytz>=2017.2 in /anaconda3/envs/NIPS/lib/python3.8/site-packages (from pandas>=1.0->gluonts) (2020.4)\n",
      "Requirement already satisfied: pymeeus<=1,>=0.3.6 in /anaconda3/envs/NIPS/lib/python3.8/site-packages (from convertdate->holidays>=0.9->gluonts) (0.3.7)\n"
     ]
    }
   ],
   "source": [
    "# !pip install mxnet==1.6\n",
    "!pip install gluonts"
   ]
  },
  {
   "cell_type": "code",
   "execution_count": 8,
   "metadata": {},
   "outputs": [
    {
     "ename": "ModuleNotFoundError",
     "evalue": "No module named 'gluonts'",
     "output_type": "error",
     "traceback": [
      "\u001b[0;31m---------------------------------------------------------------------------\u001b[0m",
      "\u001b[0;31mModuleNotFoundError\u001b[0m                       Traceback (most recent call last)",
      "\u001b[0;32m<ipython-input-8-e1462fd482c8>\u001b[0m in \u001b[0;36m<module>\u001b[0;34m\u001b[0m\n\u001b[1;32m      1\u001b[0m \u001b[0;32mimport\u001b[0m \u001b[0mmxnet\u001b[0m\u001b[0;34m\u001b[0m\u001b[0;34m\u001b[0m\u001b[0m\n\u001b[0;32m----> 2\u001b[0;31m \u001b[0;32mimport\u001b[0m \u001b[0mgluonts\u001b[0m\u001b[0;34m\u001b[0m\u001b[0;34m\u001b[0m\u001b[0m\n\u001b[0m",
      "\u001b[0;31mModuleNotFoundError\u001b[0m: No module named 'gluonts'"
     ]
    }
   ],
   "source": [
    "import mxnet\n",
    "#import gluonts"
   ]
  },
  {
   "cell_type": "code",
   "execution_count": 9,
   "metadata": {},
   "outputs": [
    {
     "ename": "ModuleNotFoundError",
     "evalue": "No module named 'gluonts'",
     "output_type": "error",
     "traceback": [
      "\u001b[0;31m---------------------------------------------------------------------------\u001b[0m",
      "\u001b[0;31mModuleNotFoundError\u001b[0m                       Traceback (most recent call last)",
      "\u001b[0;32m<ipython-input-9-b089246e20e7>\u001b[0m in \u001b[0;36m<module>\u001b[0;34m\u001b[0m\n\u001b[1;32m      5\u001b[0m \u001b[0;32mfrom\u001b[0m \u001b[0mmxnet\u001b[0m\u001b[0;34m.\u001b[0m\u001b[0mgluon\u001b[0m\u001b[0;34m.\u001b[0m\u001b[0mnn\u001b[0m \u001b[0;32mimport\u001b[0m \u001b[0mLeakyReLU\u001b[0m\u001b[0;34m\u001b[0m\u001b[0;34m\u001b[0m\u001b[0m\n\u001b[1;32m      6\u001b[0m \u001b[0;34m\u001b[0m\u001b[0m\n\u001b[0;32m----> 7\u001b[0;31m \u001b[0;32mfrom\u001b[0m \u001b[0mgluonts\u001b[0m\u001b[0;34m.\u001b[0m\u001b[0mdistribution\u001b[0m\u001b[0;34m.\u001b[0m\u001b[0mdistribution\u001b[0m\u001b[0;34m.\u001b[0m\u001b[0mDistribution\u001b[0m \u001b[0;32mimport\u001b[0m \u001b[0mGaussian\u001b[0m\u001b[0;34m\u001b[0m\u001b[0;34m\u001b[0m\u001b[0m\n\u001b[0m\u001b[1;32m      8\u001b[0m \u001b[0;32mfrom\u001b[0m \u001b[0mgluonts\u001b[0m\u001b[0;34m.\u001b[0m\u001b[0mdistribution\u001b[0m\u001b[0;34m.\u001b[0m\u001b[0mmixture\u001b[0m \u001b[0;32mimport\u001b[0m \u001b[0mMixtureModule\u001b[0m\u001b[0;34m\u001b[0m\u001b[0;34m\u001b[0m\u001b[0m\n\u001b[1;32m      9\u001b[0m \u001b[0;34m\u001b[0m\u001b[0m\n",
      "\u001b[0;31mModuleNotFoundError\u001b[0m: No module named 'gluonts'"
     ]
    }
   ],
   "source": [
    "import mxnet as mx\n",
    "from mxnet import nd, autograd\n",
    "from mxnet import autograd, gluon, nd, init \n",
    "from mxnet.gluon import nn, Block\n",
    "from mxnet.gluon.nn import LeakyReLU\n",
    "\n",
    "from gluonts.distribution.distribution.Distribution import Gaussian\n",
    "from gluonts.distribution.mixture import MixtureModule\n",
    "\n",
    "\n",
    "import tqdm\n",
    "\n",
    "\n",
    "class MDN_RNN():\n",
    "    \n",
    "    def __init__(z_dim, h_dim1, h_dim2, components):\n",
    "        \"\"\"\n",
    "        Initialization Mixture Density Network - RNN model.\n",
    "        \n",
    "        :param z_dim (int) Input dimensions, latent vector of VAE  \n",
    "        :param h_dim1 (int) First hidden layer dimension\n",
    "        :param h_dim2 (int) Second hidden layer dimension\n",
    "        :param components (int)\n",
    "\n",
    "        return: MDN RNN object\n",
    "        \"\"\"\n",
    "        # Initialize parameters\n",
    "        self.z_dim = z_dim\n",
    "        self.h_dim1 = h_dim1\n",
    "        self.h_dim2 = h_dim2\n",
    "        self.components = components\n",
    "        \n",
    "        # Create hidden layer \n",
    "        self.h1 = nn.Dense(h_dim1, activation='relu')\n",
    "        self.h2 = nn.Dense(h_dim2, activation='relu')\n",
    "\n",
    "        \n",
    "        # Create output layer for Mixture Density Network\n",
    "        self.means = nn.Dense(components)\n",
    "        self.sigmas = nn.Dense(components)\n",
    "        self.weights = nn.Dense(components)\n",
    "        \n",
    "    def forward(x):\n",
    "        \"\"\"\n",
    "        Forward pass of the model for 1 time step\n",
    "        \n",
    "        :param x (Numpy array) Concatinated array of h-1, z-1 and a-1\n",
    "\n",
    "        return: means\n",
    "        \"\"\"\n",
    "        # \n",
    "        x = self.h1(x)\n",
    "        x = self.h2(x)\n",
    "        \n",
    "        means = self.means(x)\n",
    "        sigmas = self.sigmas(x)\n",
    "        weights = self.weights(x)\n",
    "        \n",
    "        return means, sigmas, weights\n",
    "        \n",
    "#     def backward():\n",
    "#         \"\"\"\"\n",
    "#         Update gradient of weights using mxnet\n",
    "        \n",
    "#         return: gradient of error\n",
    "#         \"\"\"\"\n",
    "        \n",
    "        \n",
    "z_dim, h_dim, components = 32, 16, 2\n",
    "rnn = MDN_RNN(z_dim, h_dim, components)\n",
    "\n",
    "\n",
    "# Input: z-1, h-1, a-1\n",
    "# target: z\n",
    "# Output: approximation for z"
   ]
  },
  {
   "cell_type": "code",
   "execution_count": null,
   "metadata": {},
   "outputs": [],
   "source": []
  },
  {
   "cell_type": "code",
   "execution_count": null,
   "metadata": {},
   "outputs": [],
   "source": []
  },
  {
   "cell_type": "code",
   "execution_count": 5,
   "metadata": {},
   "outputs": [
    {
     "data": {
      "image/png": "[encoded data removed]",
      "text/plain": [
       "<PIL.Image.Image image mode=RGB size=96x96 at 0x1042A7470>"
      ]
     },
     "execution_count": 5,
     "metadata": {},
     "output_type": "execute_result"
    }
   ],
   "source": [
    "# The following steps through an entire episode from start to finish with random actions (by default)\n",
    "\n",
    "end, reward, state = environment.reset()\n",
    "\n",
    "while (end == 0):\n",
    "    action = agent.step(end, reward, state)\n",
    "    end, reward, state = environment.step(action)\n",
    "\n",
    "# Let's run it a few more steps so that the things have time to settle down\n",
    "\n",
    "for i in range(1000):\n",
    "    action = agent.step(end, reward, state)\n",
    "    end, reward, state = environment.step(action)\n",
    "\n",
    "environment.state2image(state)"
   ]
  },
  {
   "cell_type": "code",
   "execution_count": 13,
   "metadata": {},
   "outputs": [
    {
     "data": {
      "image/png": "[encoded data removed]",
      "text/plain": [
       "<PIL.Image.Image image mode=RGB size=96x96 at 0x114561668>"
      ]
     },
     "execution_count": 13,
     "metadata": {},
     "output_type": "execute_result"
    }
   ],
   "source": [
    "# Let's also do it step by step while displaying the state\n",
    "\n",
    "end, reward, state = environment.reset()\n",
    "\n",
    "environment.state2image(state)"
   ]
  },
  {
   "cell_type": "code",
   "execution_count": 14,
   "metadata": {},
   "outputs": [
    {
     "data": {
      "image/png": "[encoded data removed]",
      "text/plain": [
       "<PIL.Image.Image image mode=RGB size=96x96 at 0x1144849E8>"
      ]
     },
     "execution_count": 14,
     "metadata": {},
     "output_type": "execute_result"
    }
   ],
   "source": [
    "action = agent.step(end, reward, state)\n",
    "end, reward, state = environment.step(action)\n",
    "\n",
    "environment.state2image(state)"
   ]
  },
  {
   "cell_type": "code",
   "execution_count": 15,
   "metadata": {},
   "outputs": [
    {
     "data": {
      "image/png": "[encoded data removed]",
      "text/plain": [
       "<PIL.Image.Image image mode=RGB size=96x96 at 0x10B0708D0>"
      ]
     },
     "execution_count": 15,
     "metadata": {},
     "output_type": "execute_result"
    }
   ],
   "source": [
    "action = agent.step(end, reward, state)\n",
    "end, reward, state = environment.step(action)\n",
    "\n",
    "environment.state2image(state)"
   ]
  },
  {
   "cell_type": "code",
   "execution_count": null,
   "metadata": {},
   "outputs": [],
   "source": [
    "# etc."
   ]
  }
 ],
 "metadata": {
  "kernelspec": {
   "display_name": "Python 3",
   "language": "python",
   "name": "python3"
  },
  "language_info": {
   "codemirror_mode": {
    "name": "ipython",
    "version": 3
   },
   "file_extension": ".py",
   "mimetype": "text/x-python",
   "name": "python",
   "nbconvert_exporter": "python",
   "pygments_lexer": "ipython3",
   "version": "3.6.9"
  },
  "latex_envs": {
   "LaTeX_envs_menu_present": true,
   "autoclose": false,
   "autocomplete": true,
   "bibliofile": "biblio.bib",
   "cite_by": "apalike",
   "current_citInitial": 1,
   "eqLabelWithNumbers": true,
   "eqNumInitial": 1,
   "hotkeys": {
    "equation": "Ctrl-E",
    "itemize": "Ctrl-I"
   },
   "labels_anchors": false,
   "latex_user_defs": false,
   "report_style_numbering": false,
   "user_envs_cfg": false
  },
  "toc": {
   "base_numbering": 1,
   "nav_menu": {},
   "number_sections": true,
   "sideBar": true,
   "skip_h1_title": false,
   "title_cell": "Table of Contents",
   "title_sidebar": "Contents",
   "toc_cell": false,
   "toc_position": {},
   "toc_section_display": true,
   "toc_window_display": false
  },
  "varInspector": {
   "cols": {
    "lenName": 16,
    "lenType": 16,
    "lenVar": 40
   },
   "kernels_config": {
    "python": {
     "delete_cmd_postfix": "",
     "delete_cmd_prefix": "del ",
     "library": "var_list.py",
     "varRefreshCmd": "print(var_dic_list())"
    },
    "r": {
     "delete_cmd_postfix": ") ",
     "delete_cmd_prefix": "rm(",
     "library": "var_list.r",
     "varRefreshCmd": "cat(var_dic_list()) "
    }
   },
   "types_to_exclude": [
    "module",
    "function",
    "builtin_function_or_method",
    "instance",
    "_Feature"
   ],
   "window_display": false
  }
 },
 "nbformat": 4,
 "nbformat_minor": 4
}

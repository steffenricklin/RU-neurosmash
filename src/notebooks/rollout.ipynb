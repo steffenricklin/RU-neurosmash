{
 "cells": [
  {
   "cell_type": "code",
   "execution_count": null,
   "metadata": {},
   "outputs": [],
   "source": [
    "import numpy as np\n",
    "import mxnet as mx\n",
    "from mxnet import nd, autograd, gluon\n",
    "from mxnet.gluon import nn\n",
    "from sklearn.model_selection import train_test_split\n",
    "# !pip install tqdm\n",
    "from tqdm.notebook import tqdm as tqdm_notebook\n",
    "from tqdm import tqdm\n",
    "from matplotlib import pyplot as plt\n",
    "\n",
    "# for Neurosmash\n",
    "import PIL\n",
    "import Neurosmash\n",
    "\n",
    "\n",
    "# our settings and models\n",
    "from settings import *\n",
    "from MDN_RNN.mdn_rnn import mdn_rnn as rnn\n",
    "from vae.convvae import ConvVae as vae"
   ]
  },
  {
   "cell_type": "code",
   "execution_count": 2,
   "metadata": {},
   "outputs": [
    {
     "name": "stdout",
     "output_type": "stream",
     "text": [
      "Connection to environment established successfully!\n"
     ]
    }
   ],
   "source": [
    "# Initialize agent and environment\n",
    "\n",
    "# This is an example agent.\n",
    "agent = Neurosmash.Agent() \n",
    "\n",
    "# This is the main environment.\n",
    "try:\n",
    "    environment = Neurosmash.Environment(ip, port, size, timescale)\n",
    "except:\n",
    "    print(\"Connecting to environment failed. Please make sure Neurosmash is running and check your settings.\")\n",
    "else:\n",
    "    print(\"Connection to environment established successfully!\")"
   ]
  },
  {
   "cell_type": "code",
   "execution_count": null,
   "metadata": {},
   "outputs": [],
   "source": [
    "ctx = mx.gpu() if mx.context.num_gpus() else mx.cpu()\n",
    "\n",
    "# Create the RNN and load its parameter settings\n",
    "rnn = rnn(z_dim, h_dim)  # z_dim and h_dim are import from settings.py\n",
    "rnn.load_parameters(path_to_rnn_params, ctx=ctx)\n",
    "\n",
    "# Create the VAE and load its parameter settings\n",
    "vae = vae()\n",
    "vae.load_parameters(path_to_vae_params, ctx=ctx)\n",
    "\n",
    "# Create the controller and load its parameter settings\n",
    "controller = None\n",
    "controller.load_parameters(path_to_ctrl_params, ctx=ctx)"
   ]
  },
  {
   "cell_type": "code",
   "execution_count": null,
   "metadata": {
    "collapsed": false,
    "jupyter": {
     "outputs_hidden": false
    },
    "pycharm": {
     "name": "#%%\n"
    }
   },
   "outputs": [],
   "source": [
    "\n",
    "def rollout(controller):\n",
    "    \"\"\"\n",
    "    environment, rnn, vae are global variables\n",
    "    :param controller:\n",
    "    :return: cumulative_reward\n",
    "    \"\"\"\n",
    "    obs = environment.reset()\n",
    "    h = rnn.reset_state()\n",
    "    done = False\n",
    "    cumulative_reward = 0\n",
    "    while not done:\n",
    "        z = vae.encode(obs)\n",
    "        a = controller.action(z, h)\n",
    "        obs, reward, done = environment.step(a)\n",
    "        cumulative_reward += reward\n",
    "        h = rnn.forward([a, z, h])\n",
    "    return cumulative_reward\n",
    "\n",
    "rollout(controller)"
   ]
  },
  {
   "cell_type": "code",
   "execution_count": null,
   "outputs": [],
   "source": [],
   "metadata": {
    "collapsed": false,
    "pycharm": {
     "name": "#%%\n"
    }
   }
  }
 ],
 "metadata": {
  "kernelspec": {
   "display_name": "Python 3",
   "language": "python",
   "name": "python3"
  },
  "language_info": {
   "codemirror_mode": {
    "name": "ipython",
    "version": 3
   },
   "file_extension": ".py",
   "mimetype": "text/x-python",
   "name": "python",
   "nbconvert_exporter": "python",
   "pygments_lexer": "ipython3",
   "version": "3.8.3"
  }
 },
 "nbformat": 4,
 "nbformat_minor": 4
}
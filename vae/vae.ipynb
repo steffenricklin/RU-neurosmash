{
 "cells": [
  {
   "cell_type": "markdown",
   "metadata": {
    "cell_id": "00000-89420bb6-4667-4bfe-8da6-28fbf547e761",
    "deepnote_cell_type": "markdown"
   },
   "source": [
    "# Convolutional Auto-Encoder"
   ]
  },
  {
   "cell_type": "code",
   "execution_count": 1,
   "metadata": {
    "cell_id": "00001-27162a39-c57b-43ca-8b46-2727acc9eb7b",
    "deepnote_cell_type": "code",
    "execution_millis": 0,
    "execution_start": 1605636226302,
    "output_cleared": false,
    "source_hash": "b09e5c83"
   },
   "outputs": [],
   "source": [
    "# Imports\n",
    "#!pip install mxnet\n",
    "from convvae import ConvVae\n",
    "import numpy as np\n",
    "import PIL\n",
    "import mxnet as mx\n",
    "from mxnet import nd, autograd, gluon\n",
    "from mxnet.gluon import nn\n",
    "from sklearn.model_selection import train_test_split\n",
    "# !pip install tqdm\n",
    "from tqdm.notebook import tqdm as tqdm_notebook\n",
    "from tqdm import tqdm\n",
    "from matplotlib import pyplot as plt"
   ]
  },
  {
   "cell_type": "code",
   "execution_count": 2,
   "metadata": {
    "cell_id": "00002-a7f4647d-f5ac-4848-aefa-56e6dd563f8c",
    "deepnote_cell_type": "code",
    "execution_millis": 1,
    "execution_start": 1605636353128,
    "output_cleared": false,
    "source_hash": "49e4ee99",
    "tags": []
   },
   "outputs": [],
   "source": [
    "import Neurosmash\n",
    "\n",
    "# These are the default environment arguments. They must be the same as the values that are set in the environment GUI.\n",
    "ip         = \"127.0.0.1\" # Ip address that the TCP/IP interface listens to (127.0.0.1 by default)\n",
    "port       = 13000       # Port number that the TCP/IP interface listens to (13000 by default)\n",
    "\n",
    "# This is the size of the texture that the environment is rendered.\n",
    "# This is set to 784 by default, which will result in a crisp image but slow speed.\n",
    "# You can change the size to a value that works well for your environment but should not go too low.\n",
    "size       = 64 # 96, 192\n",
    "\n",
    "# This is the simulation speed of the environment. This is set to 1 by default.\n",
    "# Setting it to n will make the simulation n times faster.\n",
    "# In other words, less (if n < 1) or more (if n > 1) simulation time will pass per step.\n",
    "# You might want to increase this value to around 10 if you cannot train your models fast enough\n",
    "# so that they can sample more states in a shorter number of steps at the expense of precision.\n",
    "timescale  = 5\n",
    "\n",
    "# This is an example agent.\n",
    "# It has a step function, which gets reward/state as arguments and returns an action.\n",
    "# Right now, it always outputs a random action (3) regardless of reward/state.\n",
    "# The real agent should output one of the following three actions:\n",
    "# none (0), left (1) and right (2)\n",
    "agent = Neurosmash.Agent() \n",
    "\n",
    "# This is the main environment.\n",
    "# It has a reset function, which is used to reset the environment before episodes.\n",
    "# It also has a step function, which is used to which steps one time point\n",
    "# It gets an action (as defined above) as input and outputs the following:\n",
    "# end (true if the episode has ended, false otherwise)\n",
    "# reward (10 if won, 0 otherwise)\n",
    "# state (flattened size x size x 3 vector of pixel values)\n",
    "# The state can be converted into an image as follows:\n",
    "# image = np.array(state, \"uint8\").reshape(size, size, 3)\n",
    "# You can also use to Neurosmash.Environment.state2image(state) function which returns\n",
    "# the state as a PIL image\n",
    "environment = Neurosmash.Environment(ip, port, size, timescale)\n",
    "\n"
   ]
  },
  {
   "cell_type": "code",
   "execution_count": 3,
   "metadata": {
    "cell_id": "00003-f715da44-dc77-493c-a2e8-16ee7023683a",
    "deepnote_cell_type": "code",
    "tags": []
   },
   "outputs": [
    {
     "data": {
      "image/png": "[encoded data removed]",
      "text/plain": [
       "<PIL.Image.Image image mode=RGB size=64x64 at 0x7F6FC5794430>"
      ]
     },
     "execution_count": 3,
     "metadata": {},
     "output_type": "execute_result"
    }
   ],
   "source": [
    "# The following steps through an entire episode from start to finish with random actions (by default)\n",
    "\n",
    "end, reward, state = environment.reset()\n",
    "nr_images = 500\n",
    "shape = np.array(state).reshape((3, size,size)).shape\n",
    "images = np.zeros((nr_images, shape[0], shape[1], shape[2]))\n",
    "\n",
    "i = 0\n",
    "while i < nr_images:\n",
    "    end, reward, state = environment.reset()\n",
    "    while (end == 0):\n",
    "        action = agent.step(end, reward, state)\n",
    "        end, reward, state = environment.step(action)\n",
    "        images[i] = np.array(state).reshape(shape).astype(np.uint8)\n",
    "        i += 1\n",
    "        if i >= nr_images:\n",
    "            end = 1\n",
    "\n",
    "    # Let's run it a few more steps so that the things have time to settle down\n",
    "    for _ in range(100):\n",
    "        if i >= nr_images:\n",
    "            continue\n",
    "        action = agent.step(end, reward, state)\n",
    "        end, reward, state = environment.step(action)\n",
    "        images[i] = np.array(state).reshape(shape)\n",
    "        i += 1\n",
    "\n",
    "environment.state2image(state)\n"
   ]
  },
  {
   "cell_type": "code",
   "execution_count": 4,
   "metadata": {},
   "outputs": [],
   "source": [
    "new_images = np.interp(images, [0,255], [0.0,1.0])"
   ]
  },
  {
   "cell_type": "code",
   "execution_count": 5,
   "metadata": {},
   "outputs": [],
   "source": [
    "# n_samples = 10\n",
    "# idx = np.random.choice(len(images), n_samples)\n",
    "# _, axarr = plt.subplots(1, n_samples, figsize=(16,4))\n",
    "# for i, j in enumerate(idx):\n",
    "#     axarr[i].imshow(images[j].reshape(shape[1], shape[2], shape[0]).astype(np.uint8))\n",
    "#     axarr[i].get_xaxis().set_ticks([])\n",
    "#     axarr[i].get_yaxis().set_ticks([])\n",
    "# plt.show()"
   ]
  },
  {
   "cell_type": "code",
   "execution_count": 22,
   "metadata": {
    "cell_id": "00004-882c3f59-c6b5-4e03-98be-eceef2911084",
    "deepnote_cell_type": "code",
    "execution_millis": 0,
    "execution_start": 1605635893842,
    "output_cleared": false,
    "source_hash": "1aafe3e7",
    "tags": []
   },
   "outputs": [],
   "source": [
    "batch_size = 100\n",
    "train_data, test_data = train_test_split(new_images, test_size=0.33, random_state=42)\n",
    "\n",
    "train_iter = mx.io.NDArrayIter(data={'data': train_data}, batch_size = batch_size)\n",
    "test_iter = mx.io.NDArrayIter(data={'data': test_data}, batch_size = batch_size)\n",
    "\n",
    "vae = ConvVae(batch_size=batch_size, size=size)\n",
    "#vae.initialize(ctx=vae.ctx) # Initialising weights\n",
    "vae.collect_params().initialize(mx.init.Xavier(), ctx=vae.ctx)\n",
    "# vae.hybridize()  # activates hybrid-mode of the Hybrid-Block\n",
    "trainer = gluon.Trainer(vae.collect_params(), 'adam', {'learning_rate': .005}) "
   ]
  },
  {
   "cell_type": "code",
   "execution_count": 19,
   "metadata": {
    "cell_id": "00004-8f475e7b-0ea8-4cd4-863d-5d66f0c87543",
    "deepnote_cell_type": "code",
    "tags": []
   },
   "outputs": [],
   "source": [
    "outputs = np.zeros((1, *shape))\n",
    "def train_vae(n_epochs=50, print_period=10):\n",
    "    training_loss = []\n",
    "    validation_loss = []\n",
    "\n",
    "    for epoch in tqdm_notebook(range(n_epochs), desc='epochs'):\n",
    "        \n",
    "        #\n",
    "        epoch_loss = 0\n",
    "        train_iter.reset()\n",
    "        test_iter.reset()\n",
    "\n",
    "        # Training data\n",
    "        n_batch_train = 0\n",
    "        for batch in train_iter:\n",
    "            n_batch_train += 1\n",
    "            data = batch.data[0].as_in_context(vae.ctx)\n",
    "            with autograd.record():\n",
    "                _, loss = vae(data)\n",
    "            loss.backward()\n",
    "            trainer.step(data.shape[0])\n",
    "            epoch_loss += nd.mean(loss).asscalar()\n",
    "\n",
    "        # Validation data\n",
    "        n_batch_val = 0\n",
    "        epoch_val_loss = 0\n",
    "        for batch in test_iter:\n",
    "            n_batch_val += 1\n",
    "            data = batch.data[0].as_in_context(vae.ctx)\n",
    "            out, loss = vae(data)\n",
    "            epoch_val_loss += nd.mean(loss).asscalar()\n",
    "#             np.append(outputs, out.asnumpy())\n",
    "            outputs = out.asnumpy()\n",
    "\n",
    "        epoch_loss /= n_batch_train\n",
    "        epoch_val_loss /= n_batch_val\n",
    "\n",
    "        training_loss.append(epoch_loss)\n",
    "        validation_loss.append(epoch_val_loss)\n",
    "\n",
    "        if epoch % max(print_period,1) == 0:\n",
    "            tqdm.write('Epoch{}, Training loss {:.2f}, Validation loss {:.2f}'.format(epoch, epoch_loss, epoch_val_loss))\n",
    "    print(\"done.\")\n",
    "        \n",
    "    return training_loss, validation_loss"
   ]
  },
  {
   "cell_type": "code",
   "execution_count": 8,
   "metadata": {
    "cell_id": "00006-e87be96e-cd33-4b5b-ad86-3d3060eb5020",
    "deepnote_cell_type": "code",
    "tags": []
   },
   "outputs": [
    {
     "data": {
      "application/vnd.jupyter.widget-view+json": {
       "model_id": "5833e9ff5bd947208a6422b6610631ea",
       "version_major": 2,
       "version_minor": 0
      },
      "text/plain": [
       "HBox(children=(FloatProgress(value=0.0, description='epochs', max=1.0, style=ProgressStyle(description_width='…"
      ]
     },
     "metadata": {},
     "output_type": "display_data"
    },
    {
     "name": "stdout",
     "output_type": "stream",
     "text": [
      "appendo\n",
      "appendo\n",
      "Epoch0, Training loss 8514.37, Validation loss 8504.08\n",
      "\n",
      "done.\n"
     ]
    }
   ],
   "source": [
    "train_vae(1)"
   ]
  },
  {
   "cell_type": "code",
   "execution_count": 23,
   "metadata": {},
   "outputs": [
    {
     "data": {
      "application/vnd.jupyter.widget-view+json": {
       "model_id": "8bdf25068f56478a9c013f5f6313a5b6",
       "version_major": 2,
       "version_minor": 0
      },
      "text/plain": [
       "HBox(children=(FloatProgress(value=0.0, description='epochs', max=20.0, style=ProgressStyle(description_width=…"
      ]
     },
     "metadata": {},
     "output_type": "display_data"
    },
    {
     "name": "stdout",
     "output_type": "stream",
     "text": [
      "Epoch0, Training loss 8363.37, Validation loss 13048.42\n",
      "Epoch1, Training loss 9548.43, Validation loss 8469.56\n",
      "Epoch2, Training loss 8468.41, Validation loss 8451.62\n",
      "Epoch3, Training loss 8429.73, Validation loss 8375.59\n",
      "Epoch4, Training loss 8332.30, Validation loss 8242.24\n",
      "Epoch5, Training loss 8213.16, Validation loss 8178.27\n",
      "Epoch6, Training loss 8158.18, Validation loss 8126.81\n",
      "Epoch7, Training loss 8109.69, Validation loss 8077.26\n",
      "Epoch8, Training loss 8063.17, Validation loss 8038.67\n",
      "Epoch9, Training loss 8027.29, Validation loss 8014.24\n",
      "Epoch10, Training loss 8004.87, Validation loss 7994.14\n",
      "Epoch11, Training loss 7987.79, Validation loss 7980.38\n",
      "Epoch12, Training loss 7974.41, Validation loss 7968.20\n",
      "Epoch13, Training loss 7964.28, Validation loss 7957.49\n",
      "Epoch14, Training loss 7954.89, Validation loss 7949.34\n",
      "Epoch15, Training loss 7947.25, Validation loss 7943.17\n",
      "Epoch16, Training loss 7940.67, Validation loss 7937.86\n",
      "Epoch17, Training loss 7934.88, Validation loss 7931.72\n",
      "Epoch18, Training loss 7929.78, Validation loss 7926.68\n",
      "Epoch19, Training loss 7925.18, Validation loss 7922.88\n",
      "\n",
      "done.\n"
     ]
    },
    {
     "data": {
      "text/plain": [
       "<matplotlib.legend.Legend at 0x7f6fbeb1a190>"
      ]
     },
     "execution_count": 23,
     "metadata": {},
     "output_type": "execute_result"
    },
    {
     "data": {
      "image/png": "[encoded data removed]",
      "text/plain": [
       "<Figure size 432x288 with 1 Axes>"
      ]
     },
     "metadata": {
      "needs_background": "light"
     },
     "output_type": "display_data"
    }
   ],
   "source": [
    "n_epochs = 20\n",
    "training_loss, validation_loss = train_vae(n_epochs, print_period=1)\n",
    "batch_x = np.linspace(1, n_epochs, len(training_loss))\n",
    "plt.plot(batch_x, -1*np.array(training_loss))\n",
    "plt.plot(batch_x, -1*np.array(validation_loss))\n",
    "plt.legend(['train', 'valid'])"
   ]
  },
  {
   "cell_type": "code",
   "execution_count": 21,
   "metadata": {},
   "outputs": [
    {
     "data": {
      "text/plain": [
       "<matplotlib.legend.Legend at 0x7f6fa94e8cd0>"
      ]
     },
     "execution_count": 21,
     "metadata": {},
     "output_type": "execute_result"
    },
    {
     "data": {
      "image/png": "[encoded data removed]",
      "text/plain": [
       "<Figure size 432x288 with 1 Axes>"
      ]
     },
     "metadata": {
      "needs_background": "light"
     },
     "output_type": "display_data"
    }
   ],
   "source": [
    "plt.plot(batch_x, np.array(training_loss))\n",
    "plt.plot(batch_x, np.array(validation_loss))\n",
    "plt.legend(['train', 'valid'])"
   ]
  },
  {
   "cell_type": "code",
   "execution_count": 24,
   "metadata": {},
   "outputs": [
    {
     "name": "stdout",
     "output_type": "stream",
     "text": [
      "(1, 3, 64, 64)\n",
      "float64\n",
      "0.0\n"
     ]
    },
    {
     "data": {
      "image/png": "[encoded data removed]",
      "text/plain": [
       "<Figure size 432x288 with 1 Axes>"
      ]
     },
     "metadata": {
      "needs_background": "light"
     },
     "output_type": "display_data"
    }
   ],
   "source": [
    "\n",
    "# out, _ = vae(mx.nd.array(images[0:100].reshape((-1, *shape))))\n",
    "# print(out.shape)\n",
    "# print(out.dtype)\n",
    "# out_r = mx.nd.reshape(out[2], (1,2,0))\n",
    "# print(out_r.shape)\n",
    "# # print(out_r)\n",
    "# print(out_r.dtype)\n",
    "# print(len(outputs[0]))\n",
    "outs = np.asarray(outputs)\n",
    "print(outs.shape)\n",
    "print(outs.dtype)\n",
    "outi = np.reshape(outs[0], (64,64,3))\n",
    "# environment.state2image(outi)\n",
    "print(np.max(np.interp(outi, [0.0,1.0], [0,255])))\n",
    "plt.figure()\n",
    "plt.imshow(np.interp(outi, [0.0,1.0], [0,255]))\n",
    "plt.show()\n",
    "\n",
    "# plt.imshow(out[0].reshape(shape[1], shape[2], shape[0]))\n",
    "# plt.show()"
   ]
  },
  {
   "cell_type": "code",
   "execution_count": null,
   "metadata": {},
   "outputs": [],
   "source": []
  },
  {
   "cell_type": "code",
   "execution_count": null,
   "metadata": {},
   "outputs": [],
   "source": []
  }
 ],
 "metadata": {
  "deepnote_execution_queue": [],
  "deepnote_notebook_id": "d560aee3-cb13-400a-9cbc-b5a7d67e48fb",
  "kernelspec": {
   "display_name": "Python 3",
   "language": "python",
   "name": "python3"
  },
  "language_info": {
   "codemirror_mode": {
    "name": "ipython",
    "version": 3
   },
   "file_extension": ".py",
   "mimetype": "text/x-python",
   "name": "python",
   "nbconvert_exporter": "python",
   "pygments_lexer": "ipython3",
   "version": "3.8.3"
  }
 },
 "nbformat": 4,
 "nbformat_minor": 4
}
